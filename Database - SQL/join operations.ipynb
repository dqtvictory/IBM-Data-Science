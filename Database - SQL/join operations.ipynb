{
 "cells": [
  {
   "cell_type": "markdown",
   "metadata": {},
   "source": [
    "# Hands-on lab: JOIN Operations\n",
    "\n",
    "Connect to the database"
   ]
  },
  {
   "cell_type": "code",
   "execution_count": 1,
   "metadata": {},
   "outputs": [
    {
     "data": {
      "text/plain": [
       "'Connected: qpf19891@BLUDB'"
      ]
     },
     "execution_count": 1,
     "metadata": {},
     "output_type": "execute_result"
    }
   ],
   "source": [
    "%load_ext sql\n",
    "%sql ibm_db_sa://qpf19891:v65bfcz5bf8b^q8h@dashdb-txn-sbox-yp-lon02-02.services.eu-gb.bluemix.net:50000/BLUDB"
   ]
  },
  {
   "cell_type": "markdown",
   "metadata": {},
   "source": [
    "View the table for __employees__"
   ]
  },
  {
   "cell_type": "code",
   "execution_count": 2,
   "metadata": {},
   "outputs": [
    {
     "name": "stdout",
     "output_type": "stream",
     "text": [
      " * ibm_db_sa://qpf19891:***@dashdb-txn-sbox-yp-lon02-02.services.eu-gb.bluemix.net:50000/BLUDB\n",
      "Done.\n"
     ]
    },
    {
     "data": {
      "text/html": [
       "<table>\n",
       "    <tr>\n",
       "        <th>emp_id</th>\n",
       "        <th>f_name</th>\n",
       "        <th>l_name</th>\n",
       "        <th>ssn</th>\n",
       "        <th>b_date</th>\n",
       "        <th>sex</th>\n",
       "        <th>address</th>\n",
       "        <th>job_id</th>\n",
       "        <th>salary</th>\n",
       "        <th>manager_id</th>\n",
       "        <th>dep_id</th>\n",
       "    </tr>\n",
       "    <tr>\n",
       "        <td>E1001    </td>\n",
       "        <td>John</td>\n",
       "        <td>Thomas</td>\n",
       "        <td>123456   </td>\n",
       "        <td>1976-01-09</td>\n",
       "        <td>M</td>\n",
       "        <td>5631 Rice, OakPark,IL</td>\n",
       "        <td>100      </td>\n",
       "        <td>100000.00</td>\n",
       "        <td>30001    </td>\n",
       "        <td>2        </td>\n",
       "    </tr>\n",
       "    <tr>\n",
       "        <td>E1002    </td>\n",
       "        <td>Alice</td>\n",
       "        <td>James</td>\n",
       "        <td>123457   </td>\n",
       "        <td>1972-07-31</td>\n",
       "        <td>F</td>\n",
       "        <td>980 Berry ln, Elgin,IL</td>\n",
       "        <td>200      </td>\n",
       "        <td>80000.00</td>\n",
       "        <td>30002    </td>\n",
       "        <td>5        </td>\n",
       "    </tr>\n",
       "    <tr>\n",
       "        <td>E1003    </td>\n",
       "        <td>Steve</td>\n",
       "        <td>Wells</td>\n",
       "        <td>123458   </td>\n",
       "        <td>1980-08-10</td>\n",
       "        <td>M</td>\n",
       "        <td>291 Springs, Gary,IL</td>\n",
       "        <td>300      </td>\n",
       "        <td>50000.00</td>\n",
       "        <td>30002    </td>\n",
       "        <td>5        </td>\n",
       "    </tr>\n",
       "    <tr>\n",
       "        <td>E1004    </td>\n",
       "        <td>Santosh</td>\n",
       "        <td>Kumar</td>\n",
       "        <td>123459   </td>\n",
       "        <td>1985-07-20</td>\n",
       "        <td>M</td>\n",
       "        <td>511 Aurora Av, Aurora,IL</td>\n",
       "        <td>400      </td>\n",
       "        <td>60000.00</td>\n",
       "        <td>30004    </td>\n",
       "        <td>5        </td>\n",
       "    </tr>\n",
       "    <tr>\n",
       "        <td>E1005    </td>\n",
       "        <td>Ahmed</td>\n",
       "        <td>Hussain</td>\n",
       "        <td>123410   </td>\n",
       "        <td>1981-01-04</td>\n",
       "        <td>M</td>\n",
       "        <td>216 Oak Tree, Geneva,IL</td>\n",
       "        <td>500      </td>\n",
       "        <td>70000.00</td>\n",
       "        <td>30001    </td>\n",
       "        <td>2        </td>\n",
       "    </tr>\n",
       "    <tr>\n",
       "        <td>E1006    </td>\n",
       "        <td>Nancy</td>\n",
       "        <td>Allen</td>\n",
       "        <td>123411   </td>\n",
       "        <td>1978-02-06</td>\n",
       "        <td>F</td>\n",
       "        <td>111 Green Pl, Elgin,IL</td>\n",
       "        <td>600      </td>\n",
       "        <td>90000.00</td>\n",
       "        <td>30001    </td>\n",
       "        <td>2        </td>\n",
       "    </tr>\n",
       "    <tr>\n",
       "        <td>E1007    </td>\n",
       "        <td>Mary</td>\n",
       "        <td>Thomas</td>\n",
       "        <td>123412   </td>\n",
       "        <td>1975-05-05</td>\n",
       "        <td>F</td>\n",
       "        <td>100 Rose Pl, Gary,IL</td>\n",
       "        <td>650      </td>\n",
       "        <td>65000.00</td>\n",
       "        <td>30003    </td>\n",
       "        <td>7        </td>\n",
       "    </tr>\n",
       "    <tr>\n",
       "        <td>E1008    </td>\n",
       "        <td>Bharath</td>\n",
       "        <td>Gupta</td>\n",
       "        <td>123413   </td>\n",
       "        <td>1985-05-06</td>\n",
       "        <td>M</td>\n",
       "        <td>145 Berry Ln, Naperville,IL</td>\n",
       "        <td>660      </td>\n",
       "        <td>65000.00</td>\n",
       "        <td>30003    </td>\n",
       "        <td>7        </td>\n",
       "    </tr>\n",
       "    <tr>\n",
       "        <td>E1009    </td>\n",
       "        <td>Andrea</td>\n",
       "        <td>Jones</td>\n",
       "        <td>123414   </td>\n",
       "        <td>1990-07-09</td>\n",
       "        <td>F</td>\n",
       "        <td>120 Fall Creek, Gary,IL</td>\n",
       "        <td>234      </td>\n",
       "        <td>70000.00</td>\n",
       "        <td>30003    </td>\n",
       "        <td>7        </td>\n",
       "    </tr>\n",
       "    <tr>\n",
       "        <td>E1010    </td>\n",
       "        <td>Ann</td>\n",
       "        <td>Jacob</td>\n",
       "        <td>123415   </td>\n",
       "        <td>1982-03-30</td>\n",
       "        <td>F</td>\n",
       "        <td>111 Britany Springs,Elgin,IL</td>\n",
       "        <td>220      </td>\n",
       "        <td>70000.00</td>\n",
       "        <td>30004    </td>\n",
       "        <td>5        </td>\n",
       "    </tr>\n",
       "</table>"
      ],
      "text/plain": [
       "[('E1001    ', 'John', 'Thomas', '123456   ', datetime.date(1976, 1, 9), 'M', '5631 Rice, OakPark,IL', '100      ', Decimal('100000.00'), '30001    ', '2        '),\n",
       " ('E1002    ', 'Alice', 'James', '123457   ', datetime.date(1972, 7, 31), 'F', '980 Berry ln, Elgin,IL', '200      ', Decimal('80000.00'), '30002    ', '5        '),\n",
       " ('E1003    ', 'Steve', 'Wells', '123458   ', datetime.date(1980, 8, 10), 'M', '291 Springs, Gary,IL', '300      ', Decimal('50000.00'), '30002    ', '5        '),\n",
       " ('E1004    ', 'Santosh', 'Kumar', '123459   ', datetime.date(1985, 7, 20), 'M', '511 Aurora Av, Aurora,IL', '400      ', Decimal('60000.00'), '30004    ', '5        '),\n",
       " ('E1005    ', 'Ahmed', 'Hussain', '123410   ', datetime.date(1981, 1, 4), 'M', '216 Oak Tree, Geneva,IL', '500      ', Decimal('70000.00'), '30001    ', '2        '),\n",
       " ('E1006    ', 'Nancy', 'Allen', '123411   ', datetime.date(1978, 2, 6), 'F', '111 Green Pl, Elgin,IL', '600      ', Decimal('90000.00'), '30001    ', '2        '),\n",
       " ('E1007    ', 'Mary', 'Thomas', '123412   ', datetime.date(1975, 5, 5), 'F', '100 Rose Pl, Gary,IL', '650      ', Decimal('65000.00'), '30003    ', '7        '),\n",
       " ('E1008    ', 'Bharath', 'Gupta', '123413   ', datetime.date(1985, 5, 6), 'M', '145 Berry Ln, Naperville,IL', '660      ', Decimal('65000.00'), '30003    ', '7        '),\n",
       " ('E1009    ', 'Andrea', 'Jones', '123414   ', datetime.date(1990, 7, 9), 'F', '120 Fall Creek, Gary,IL', '234      ', Decimal('70000.00'), '30003    ', '7        '),\n",
       " ('E1010    ', 'Ann', 'Jacob', '123415   ', datetime.date(1982, 3, 30), 'F', '111 Britany Springs,Elgin,IL', '220      ', Decimal('70000.00'), '30004    ', '5        ')]"
      ]
     },
     "execution_count": 2,
     "metadata": {},
     "output_type": "execute_result"
    }
   ],
   "source": [
    "%sql select * from employees"
   ]
  },
  {
   "cell_type": "markdown",
   "metadata": {},
   "source": [
    "and for the table __departments__"
   ]
  },
  {
   "cell_type": "code",
   "execution_count": 3,
   "metadata": {},
   "outputs": [
    {
     "name": "stdout",
     "output_type": "stream",
     "text": [
      " * ibm_db_sa://qpf19891:***@dashdb-txn-sbox-yp-lon02-02.services.eu-gb.bluemix.net:50000/BLUDB\n",
      "Done.\n"
     ]
    },
    {
     "data": {
      "text/html": [
       "<table>\n",
       "    <tr>\n",
       "        <th>dept_id_dep</th>\n",
       "        <th>dep_name</th>\n",
       "        <th>manager_id</th>\n",
       "        <th>loc_id</th>\n",
       "    </tr>\n",
       "    <tr>\n",
       "        <td>2        </td>\n",
       "        <td>Architect Group</td>\n",
       "        <td>30001    </td>\n",
       "        <td>L0001    </td>\n",
       "    </tr>\n",
       "    <tr>\n",
       "        <td>5        </td>\n",
       "        <td>Software Group</td>\n",
       "        <td>30002    </td>\n",
       "        <td>L0002    </td>\n",
       "    </tr>\n",
       "    <tr>\n",
       "        <td>7        </td>\n",
       "        <td>Design Team</td>\n",
       "        <td>30003    </td>\n",
       "        <td>L0003    </td>\n",
       "    </tr>\n",
       "</table>"
      ],
      "text/plain": [
       "[('2        ', 'Architect Group', '30001    ', 'L0001    '),\n",
       " ('5        ', 'Software Group', '30002    ', 'L0002    '),\n",
       " ('7        ', 'Design Team', '30003    ', 'L0003    ')]"
      ]
     },
     "execution_count": 3,
     "metadata": {},
     "output_type": "execute_result"
    }
   ],
   "source": [
    "%sql select * from departments"
   ]
  },
  {
   "cell_type": "markdown",
   "metadata": {},
   "source": [
    "### Select the names and job start dates of all employees who work for the department number 5"
   ]
  },
  {
   "cell_type": "code",
   "execution_count": 4,
   "metadata": {},
   "outputs": [
    {
     "name": "stdout",
     "output_type": "stream",
     "text": [
      " * ibm_db_sa://qpf19891:***@dashdb-txn-sbox-yp-lon02-02.services.eu-gb.bluemix.net:50000/BLUDB\n",
      "Done.\n"
     ]
    },
    {
     "data": {
      "text/html": [
       "<table>\n",
       "    <tr>\n",
       "        <th>f_name</th>\n",
       "        <th>l_name</th>\n",
       "        <th>start_date</th>\n",
       "    </tr>\n",
       "    <tr>\n",
       "        <td>Alice</td>\n",
       "        <td>James</td>\n",
       "        <td>2001-08-01</td>\n",
       "    </tr>\n",
       "    <tr>\n",
       "        <td>Steve</td>\n",
       "        <td>Wells</td>\n",
       "        <td>2001-08-16</td>\n",
       "    </tr>\n",
       "    <tr>\n",
       "        <td>Santosh</td>\n",
       "        <td>Kumar</td>\n",
       "        <td>2000-08-16</td>\n",
       "    </tr>\n",
       "    <tr>\n",
       "        <td>Ann</td>\n",
       "        <td>Jacob</td>\n",
       "        <td>2016-08-16</td>\n",
       "    </tr>\n",
       "</table>"
      ],
      "text/plain": [
       "[('Alice', 'James', datetime.date(2001, 8, 1)),\n",
       " ('Steve', 'Wells', datetime.date(2001, 8, 16)),\n",
       " ('Santosh', 'Kumar', datetime.date(2000, 8, 16)),\n",
       " ('Ann', 'Jacob', datetime.date(2016, 8, 16))]"
      ]
     },
     "execution_count": 4,
     "metadata": {},
     "output_type": "execute_result"
    }
   ],
   "source": [
    "%sql select e.f_name, e.l_name, j.start_date from employees e inner join job_history j on e.emp_id = j.empl_id where e.dep_id = 5;"
   ]
  },
  {
   "cell_type": "markdown",
   "metadata": {},
   "source": [
    "### Select the names, job start dates, and job titles of all employees who work for the dept number 5"
   ]
  },
  {
   "cell_type": "code",
   "execution_count": 5,
   "metadata": {},
   "outputs": [
    {
     "name": "stdout",
     "output_type": "stream",
     "text": [
      " * ibm_db_sa://qpf19891:***@dashdb-txn-sbox-yp-lon02-02.services.eu-gb.bluemix.net:50000/BLUDB\n",
      "(ibm_db_dbi.ProgrammingError) ibm_db_dbi::ProgrammingError: SQLNumResultCols failed: [IBM][CLI Driver][DB2/LINUXX8664] SQL0104N  An unexpected token \"innerjoin\" was found following \".emp_id = jh.empl_id\".  Expected tokens may include:  \"JOIN\".  SQLSTATE=42601 SQLCODE=-104\n",
      "[SQL: select e.f_name, e.l_name, jh.start_date, j.job_title from employees e inner join job_history jh on e.emp_id = jh.empl_id innerjoin jobs j on e.job_id = j.job_ident where e.dep_id = 5;]\n",
      "(Background on this error at: http://sqlalche.me/e/f405)\n"
     ]
    }
   ],
   "source": [
    "%sql select e.f_name, e.l_name, jh.start_date, j.job_title from employees e inner join job_history jh on e.emp_id = jh.empl_id innerjoin jobs j on e.job_id = j.job_ident where e.dep_id = 5;"
   ]
  },
  {
   "cell_type": "markdown",
   "metadata": {},
   "source": [
    "### Select the employee id, last name, dept id and dept name for all employees"
   ]
  },
  {
   "cell_type": "code",
   "execution_count": 6,
   "metadata": {},
   "outputs": [
    {
     "name": "stdout",
     "output_type": "stream",
     "text": [
      " * ibm_db_sa://qpf19891:***@dashdb-txn-sbox-yp-lon02-02.services.eu-gb.bluemix.net:50000/BLUDB\n",
      "Done.\n"
     ]
    },
    {
     "data": {
      "text/html": [
       "<table>\n",
       "    <tr>\n",
       "        <th>emp_id</th>\n",
       "        <th>l_name</th>\n",
       "        <th>dep_id</th>\n",
       "        <th>dep_name</th>\n",
       "    </tr>\n",
       "    <tr>\n",
       "        <td>E1001    </td>\n",
       "        <td>Thomas</td>\n",
       "        <td>2        </td>\n",
       "        <td>Architect Group</td>\n",
       "    </tr>\n",
       "    <tr>\n",
       "        <td>E1006    </td>\n",
       "        <td>Allen</td>\n",
       "        <td>2        </td>\n",
       "        <td>Architect Group</td>\n",
       "    </tr>\n",
       "    <tr>\n",
       "        <td>E1005    </td>\n",
       "        <td>Hussain</td>\n",
       "        <td>2        </td>\n",
       "        <td>Architect Group</td>\n",
       "    </tr>\n",
       "    <tr>\n",
       "        <td>E1002    </td>\n",
       "        <td>James</td>\n",
       "        <td>5        </td>\n",
       "        <td>Software Group</td>\n",
       "    </tr>\n",
       "    <tr>\n",
       "        <td>E1010    </td>\n",
       "        <td>Jacob</td>\n",
       "        <td>5        </td>\n",
       "        <td>Software Group</td>\n",
       "    </tr>\n",
       "    <tr>\n",
       "        <td>E1004    </td>\n",
       "        <td>Kumar</td>\n",
       "        <td>5        </td>\n",
       "        <td>Software Group</td>\n",
       "    </tr>\n",
       "    <tr>\n",
       "        <td>E1003    </td>\n",
       "        <td>Wells</td>\n",
       "        <td>5        </td>\n",
       "        <td>Software Group</td>\n",
       "    </tr>\n",
       "    <tr>\n",
       "        <td>E1007    </td>\n",
       "        <td>Thomas</td>\n",
       "        <td>7        </td>\n",
       "        <td>Design Team</td>\n",
       "    </tr>\n",
       "    <tr>\n",
       "        <td>E1009    </td>\n",
       "        <td>Jones</td>\n",
       "        <td>7        </td>\n",
       "        <td>Design Team</td>\n",
       "    </tr>\n",
       "    <tr>\n",
       "        <td>E1008    </td>\n",
       "        <td>Gupta</td>\n",
       "        <td>7        </td>\n",
       "        <td>Design Team</td>\n",
       "    </tr>\n",
       "</table>"
      ],
      "text/plain": [
       "[('E1001    ', 'Thomas', '2        ', 'Architect Group'),\n",
       " ('E1006    ', 'Allen', '2        ', 'Architect Group'),\n",
       " ('E1005    ', 'Hussain', '2        ', 'Architect Group'),\n",
       " ('E1002    ', 'James', '5        ', 'Software Group'),\n",
       " ('E1010    ', 'Jacob', '5        ', 'Software Group'),\n",
       " ('E1004    ', 'Kumar', '5        ', 'Software Group'),\n",
       " ('E1003    ', 'Wells', '5        ', 'Software Group'),\n",
       " ('E1007    ', 'Thomas', '7        ', 'Design Team'),\n",
       " ('E1009    ', 'Jones', '7        ', 'Design Team'),\n",
       " ('E1008    ', 'Gupta', '7        ', 'Design Team')]"
      ]
     },
     "execution_count": 6,
     "metadata": {},
     "output_type": "execute_result"
    }
   ],
   "source": [
    "%sql select e.emp_id, e.l_name, e.dep_id, d.dep_name from employees e left join departments d on e.dep_id = d.dept_id_dep;"
   ]
  },
  {
   "cell_type": "markdown",
   "metadata": {},
   "source": [
    "### Rewrite above query to limit result set to include only employees born before 1980"
   ]
  },
  {
   "cell_type": "code",
   "execution_count": 7,
   "metadata": {},
   "outputs": [
    {
     "name": "stdout",
     "output_type": "stream",
     "text": [
      " * ibm_db_sa://qpf19891:***@dashdb-txn-sbox-yp-lon02-02.services.eu-gb.bluemix.net:50000/BLUDB\n",
      "Done.\n"
     ]
    },
    {
     "data": {
      "text/html": [
       "<table>\n",
       "    <tr>\n",
       "        <th>emp_id</th>\n",
       "        <th>l_name</th>\n",
       "        <th>dep_id</th>\n",
       "        <th>dep_name</th>\n",
       "        <th>b_date</th>\n",
       "    </tr>\n",
       "    <tr>\n",
       "        <td>E1001    </td>\n",
       "        <td>Thomas</td>\n",
       "        <td>2        </td>\n",
       "        <td>Architect Group</td>\n",
       "        <td>1976-01-09</td>\n",
       "    </tr>\n",
       "    <tr>\n",
       "        <td>E1006    </td>\n",
       "        <td>Allen</td>\n",
       "        <td>2        </td>\n",
       "        <td>Architect Group</td>\n",
       "        <td>1978-02-06</td>\n",
       "    </tr>\n",
       "    <tr>\n",
       "        <td>E1002    </td>\n",
       "        <td>James</td>\n",
       "        <td>5        </td>\n",
       "        <td>Software Group</td>\n",
       "        <td>1972-07-31</td>\n",
       "    </tr>\n",
       "    <tr>\n",
       "        <td>E1007    </td>\n",
       "        <td>Thomas</td>\n",
       "        <td>7        </td>\n",
       "        <td>Design Team</td>\n",
       "        <td>1975-05-05</td>\n",
       "    </tr>\n",
       "</table>"
      ],
      "text/plain": [
       "[('E1001    ', 'Thomas', '2        ', 'Architect Group', datetime.date(1976, 1, 9)),\n",
       " ('E1006    ', 'Allen', '2        ', 'Architect Group', datetime.date(1978, 2, 6)),\n",
       " ('E1002    ', 'James', '5        ', 'Software Group', datetime.date(1972, 7, 31)),\n",
       " ('E1007    ', 'Thomas', '7        ', 'Design Team', datetime.date(1975, 5, 5))]"
      ]
     },
     "execution_count": 7,
     "metadata": {},
     "output_type": "execute_result"
    }
   ],
   "source": [
    "%sql select e.emp_id, e.l_name, e.dep_id, d.dep_name, e.b_date from employees e left join departments d on e.dep_id = d.dept_id_dep where year(e.b_date) < 1980;"
   ]
  },
  {
   "cell_type": "markdown",
   "metadata": {},
   "source": [
    "### Rewrite above query to include dept name only for those born before 1980"
   ]
  },
  {
   "cell_type": "code",
   "execution_count": 8,
   "metadata": {},
   "outputs": [
    {
     "name": "stdout",
     "output_type": "stream",
     "text": [
      " * ibm_db_sa://qpf19891:***@dashdb-txn-sbox-yp-lon02-02.services.eu-gb.bluemix.net:50000/BLUDB\n",
      "Done.\n"
     ]
    },
    {
     "data": {
      "text/html": [
       "<table>\n",
       "    <tr>\n",
       "        <th>emp_id</th>\n",
       "        <th>l_name</th>\n",
       "        <th>dep_id</th>\n",
       "        <th>dep_name</th>\n",
       "        <th>b_date</th>\n",
       "    </tr>\n",
       "    <tr>\n",
       "        <td>E1001    </td>\n",
       "        <td>Thomas</td>\n",
       "        <td>2        </td>\n",
       "        <td>Architect Group</td>\n",
       "        <td>1976-01-09</td>\n",
       "    </tr>\n",
       "    <tr>\n",
       "        <td>E1002    </td>\n",
       "        <td>James</td>\n",
       "        <td>5        </td>\n",
       "        <td>Software Group</td>\n",
       "        <td>1972-07-31</td>\n",
       "    </tr>\n",
       "    <tr>\n",
       "        <td>E1003    </td>\n",
       "        <td>Wells</td>\n",
       "        <td>5        </td>\n",
       "        <td>None</td>\n",
       "        <td>1980-08-10</td>\n",
       "    </tr>\n",
       "    <tr>\n",
       "        <td>E1004    </td>\n",
       "        <td>Kumar</td>\n",
       "        <td>5        </td>\n",
       "        <td>None</td>\n",
       "        <td>1985-07-20</td>\n",
       "    </tr>\n",
       "    <tr>\n",
       "        <td>E1005    </td>\n",
       "        <td>Hussain</td>\n",
       "        <td>2        </td>\n",
       "        <td>None</td>\n",
       "        <td>1981-01-04</td>\n",
       "    </tr>\n",
       "    <tr>\n",
       "        <td>E1006    </td>\n",
       "        <td>Allen</td>\n",
       "        <td>2        </td>\n",
       "        <td>Architect Group</td>\n",
       "        <td>1978-02-06</td>\n",
       "    </tr>\n",
       "    <tr>\n",
       "        <td>E1007    </td>\n",
       "        <td>Thomas</td>\n",
       "        <td>7        </td>\n",
       "        <td>Design Team</td>\n",
       "        <td>1975-05-05</td>\n",
       "    </tr>\n",
       "    <tr>\n",
       "        <td>E1008    </td>\n",
       "        <td>Gupta</td>\n",
       "        <td>7        </td>\n",
       "        <td>None</td>\n",
       "        <td>1985-05-06</td>\n",
       "    </tr>\n",
       "    <tr>\n",
       "        <td>E1009    </td>\n",
       "        <td>Jones</td>\n",
       "        <td>7        </td>\n",
       "        <td>None</td>\n",
       "        <td>1990-07-09</td>\n",
       "    </tr>\n",
       "    <tr>\n",
       "        <td>E1010    </td>\n",
       "        <td>Jacob</td>\n",
       "        <td>5        </td>\n",
       "        <td>None</td>\n",
       "        <td>1982-03-30</td>\n",
       "    </tr>\n",
       "</table>"
      ],
      "text/plain": [
       "[('E1001    ', 'Thomas', '2        ', 'Architect Group', datetime.date(1976, 1, 9)),\n",
       " ('E1002    ', 'James', '5        ', 'Software Group', datetime.date(1972, 7, 31)),\n",
       " ('E1003    ', 'Wells', '5        ', None, datetime.date(1980, 8, 10)),\n",
       " ('E1004    ', 'Kumar', '5        ', None, datetime.date(1985, 7, 20)),\n",
       " ('E1005    ', 'Hussain', '2        ', None, datetime.date(1981, 1, 4)),\n",
       " ('E1006    ', 'Allen', '2        ', 'Architect Group', datetime.date(1978, 2, 6)),\n",
       " ('E1007    ', 'Thomas', '7        ', 'Design Team', datetime.date(1975, 5, 5)),\n",
       " ('E1008    ', 'Gupta', '7        ', None, datetime.date(1985, 5, 6)),\n",
       " ('E1009    ', 'Jones', '7        ', None, datetime.date(1990, 7, 9)),\n",
       " ('E1010    ', 'Jacob', '5        ', None, datetime.date(1982, 3, 30))]"
      ]
     },
     "execution_count": 8,
     "metadata": {},
     "output_type": "execute_result"
    }
   ],
   "source": [
    "%sql select e.emp_id, e.l_name, e.dep_id, d.dep_name, e.b_date from employees e left join departments d on e.dep_id = d.dept_id_dep and year(e.b_date) < 1980;"
   ]
  },
  {
   "cell_type": "markdown",
   "metadata": {},
   "source": [
    "### Perform a Full Join on the employees and departments tables and select first name, last name and dept name of all employees"
   ]
  },
  {
   "cell_type": "code",
   "execution_count": 9,
   "metadata": {},
   "outputs": [
    {
     "name": "stdout",
     "output_type": "stream",
     "text": [
      " * ibm_db_sa://qpf19891:***@dashdb-txn-sbox-yp-lon02-02.services.eu-gb.bluemix.net:50000/BLUDB\n",
      "Done.\n"
     ]
    },
    {
     "data": {
      "text/html": [
       "<table>\n",
       "    <tr>\n",
       "        <th>f_name</th>\n",
       "        <th>l_name</th>\n",
       "        <th>dep_name</th>\n",
       "    </tr>\n",
       "    <tr>\n",
       "        <td>John</td>\n",
       "        <td>Thomas</td>\n",
       "        <td>Architect Group</td>\n",
       "    </tr>\n",
       "    <tr>\n",
       "        <td>Alice</td>\n",
       "        <td>James</td>\n",
       "        <td>Software Group</td>\n",
       "    </tr>\n",
       "    <tr>\n",
       "        <td>Steve</td>\n",
       "        <td>Wells</td>\n",
       "        <td>Software Group</td>\n",
       "    </tr>\n",
       "    <tr>\n",
       "        <td>Santosh</td>\n",
       "        <td>Kumar</td>\n",
       "        <td>Software Group</td>\n",
       "    </tr>\n",
       "    <tr>\n",
       "        <td>Ahmed</td>\n",
       "        <td>Hussain</td>\n",
       "        <td>Architect Group</td>\n",
       "    </tr>\n",
       "    <tr>\n",
       "        <td>Nancy</td>\n",
       "        <td>Allen</td>\n",
       "        <td>Architect Group</td>\n",
       "    </tr>\n",
       "    <tr>\n",
       "        <td>Mary</td>\n",
       "        <td>Thomas</td>\n",
       "        <td>Design Team</td>\n",
       "    </tr>\n",
       "    <tr>\n",
       "        <td>Bharath</td>\n",
       "        <td>Gupta</td>\n",
       "        <td>Design Team</td>\n",
       "    </tr>\n",
       "    <tr>\n",
       "        <td>Andrea</td>\n",
       "        <td>Jones</td>\n",
       "        <td>Design Team</td>\n",
       "    </tr>\n",
       "    <tr>\n",
       "        <td>Ann</td>\n",
       "        <td>Jacob</td>\n",
       "        <td>Software Group</td>\n",
       "    </tr>\n",
       "</table>"
      ],
      "text/plain": [
       "[('John', 'Thomas', 'Architect Group'),\n",
       " ('Alice', 'James', 'Software Group'),\n",
       " ('Steve', 'Wells', 'Software Group'),\n",
       " ('Santosh', 'Kumar', 'Software Group'),\n",
       " ('Ahmed', 'Hussain', 'Architect Group'),\n",
       " ('Nancy', 'Allen', 'Architect Group'),\n",
       " ('Mary', 'Thomas', 'Design Team'),\n",
       " ('Bharath', 'Gupta', 'Design Team'),\n",
       " ('Andrea', 'Jones', 'Design Team'),\n",
       " ('Ann', 'Jacob', 'Software Group')]"
      ]
     },
     "execution_count": 9,
     "metadata": {},
     "output_type": "execute_result"
    }
   ],
   "source": [
    "%sql select e.f_name, e.l_name, d.dep_name from employees e full join departments d on e.dep_id = d.dept_id_dep;"
   ]
  },
  {
   "cell_type": "markdown",
   "metadata": {},
   "source": [
    "### Rewrite above query to include dept name to only male employees"
   ]
  },
  {
   "cell_type": "code",
   "execution_count": 10,
   "metadata": {},
   "outputs": [
    {
     "name": "stdout",
     "output_type": "stream",
     "text": [
      " * ibm_db_sa://qpf19891:***@dashdb-txn-sbox-yp-lon02-02.services.eu-gb.bluemix.net:50000/BLUDB\n",
      "Done.\n"
     ]
    },
    {
     "data": {
      "text/html": [
       "<table>\n",
       "    <tr>\n",
       "        <th>f_name</th>\n",
       "        <th>l_name</th>\n",
       "        <th>sex</th>\n",
       "        <th>dep_name</th>\n",
       "    </tr>\n",
       "    <tr>\n",
       "        <td>John</td>\n",
       "        <td>Thomas</td>\n",
       "        <td>M</td>\n",
       "        <td>Architect Group</td>\n",
       "    </tr>\n",
       "    <tr>\n",
       "        <td>Steve</td>\n",
       "        <td>Wells</td>\n",
       "        <td>M</td>\n",
       "        <td>Software Group</td>\n",
       "    </tr>\n",
       "    <tr>\n",
       "        <td>Santosh</td>\n",
       "        <td>Kumar</td>\n",
       "        <td>M</td>\n",
       "        <td>Software Group</td>\n",
       "    </tr>\n",
       "    <tr>\n",
       "        <td>Ahmed</td>\n",
       "        <td>Hussain</td>\n",
       "        <td>M</td>\n",
       "        <td>Architect Group</td>\n",
       "    </tr>\n",
       "    <tr>\n",
       "        <td>Bharath</td>\n",
       "        <td>Gupta</td>\n",
       "        <td>M</td>\n",
       "        <td>Design Team</td>\n",
       "    </tr>\n",
       "    <tr>\n",
       "        <td>Alice</td>\n",
       "        <td>James</td>\n",
       "        <td>F</td>\n",
       "        <td>None</td>\n",
       "    </tr>\n",
       "    <tr>\n",
       "        <td>Nancy</td>\n",
       "        <td>Allen</td>\n",
       "        <td>F</td>\n",
       "        <td>None</td>\n",
       "    </tr>\n",
       "    <tr>\n",
       "        <td>Mary</td>\n",
       "        <td>Thomas</td>\n",
       "        <td>F</td>\n",
       "        <td>None</td>\n",
       "    </tr>\n",
       "    <tr>\n",
       "        <td>Andrea</td>\n",
       "        <td>Jones</td>\n",
       "        <td>F</td>\n",
       "        <td>None</td>\n",
       "    </tr>\n",
       "    <tr>\n",
       "        <td>Ann</td>\n",
       "        <td>Jacob</td>\n",
       "        <td>F</td>\n",
       "        <td>None</td>\n",
       "    </tr>\n",
       "</table>"
      ],
      "text/plain": [
       "[('John', 'Thomas', 'M', 'Architect Group'),\n",
       " ('Steve', 'Wells', 'M', 'Software Group'),\n",
       " ('Santosh', 'Kumar', 'M', 'Software Group'),\n",
       " ('Ahmed', 'Hussain', 'M', 'Architect Group'),\n",
       " ('Bharath', 'Gupta', 'M', 'Design Team'),\n",
       " ('Alice', 'James', 'F', None),\n",
       " ('Nancy', 'Allen', 'F', None),\n",
       " ('Mary', 'Thomas', 'F', None),\n",
       " ('Andrea', 'Jones', 'F', None),\n",
       " ('Ann', 'Jacob', 'F', None)]"
      ]
     },
     "execution_count": 10,
     "metadata": {},
     "output_type": "execute_result"
    }
   ],
   "source": [
    "%sql select e.f_name, e.l_name, e.sex, d.dep_name from employees e full join departments d on e.dep_id = d.dept_id_dep and e.sex = 'M';"
   ]
  }
 ],
 "metadata": {
  "kernelspec": {
   "display_name": "Python",
   "language": "python",
   "name": "conda-env-python-py"
  },
  "language_info": {
   "codemirror_mode": {
    "name": "ipython",
    "version": 3
   },
   "file_extension": ".py",
   "mimetype": "text/x-python",
   "name": "python",
   "nbconvert_exporter": "python",
   "pygments_lexer": "ipython3",
   "version": "3.6.7"
  }
 },
 "nbformat": 4,
 "nbformat_minor": 4
}
